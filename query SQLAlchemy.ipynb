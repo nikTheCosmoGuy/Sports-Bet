{
 "cells": [
  {
   "cell_type": "markdown",
   "metadata": {},
   "source": [
    "# SQL Alchemy & Bigquery\n",
    "\n",
    "Very similar set up process, for sqlalchemy you need to provide a URI of the form ''"
   ]
  },
  {
   "cell_type": "code",
   "execution_count": 4,
   "metadata": {},
   "outputs": [],
   "source": [
    "from sqlalchemy import Table\n",
    "from sqlalchemy.engine import create_engine\n",
    "from sqlalchemy.schema import MetaData\n",
    "from config import bq_uri, bq_project, manage_gcp_auth\n",
    "\n",
    "manage_gcp_auth()"
   ]
  },
  {
   "cell_type": "code",
   "execution_count": 5,
   "metadata": {},
   "outputs": [],
   "source": [
    "import sqlalchemy"
   ]
  },
  {
   "cell_type": "code",
   "execution_count": 6,
   "metadata": {},
   "outputs": [],
   "source": [
    "engine = create_engine(bq_uri)\n",
    "table = Table(f'Dashboard_Tables.bq_project', MetaData(bind=engine), autoload=True)"
   ]
  },
  {
   "cell_type": "code",
   "execution_count": null,
   "metadata": {},
   "outputs": [],
   "source": []
  },
  {
   "cell_type": "code",
   "execution_count": null,
   "metadata": {},
   "outputs": [],
   "source": [
    "sqlalchemy.Table"
   ]
  }
 ],
 "metadata": {
  "kernelspec": {
   "display_name": "Python 3.8.5 ('base')",
   "language": "python",
   "name": "python3"
  },
  "language_info": {
   "codemirror_mode": {
    "name": "ipython",
    "version": 3
   },
   "file_extension": ".py",
   "mimetype": "text/x-python",
   "name": "python",
   "nbconvert_exporter": "python",
   "pygments_lexer": "ipython3",
   "version": "3.8.5"
  },
  "orig_nbformat": 4,
  "vscode": {
   "interpreter": {
    "hash": "12b881b1018f446a6338df1b30fc247437340c6cc2f1d6b765e940f622eccd91"
   }
  }
 },
 "nbformat": 4,
 "nbformat_minor": 2
}
